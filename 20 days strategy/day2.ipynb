{
 "cells": [
  {
   "attachments": {},
   "cell_type": "markdown",
   "metadata": {},
   "source": [
    "# Day 2\n",
    "- ## Practice of for/while loops and if-else and switch statements\n"
   ]
  },
  {
   "attachments": {},
   "cell_type": "markdown",
   "metadata": {},
   "source": [
    "In the below for loops, 'i' has been iterated in the string 'Python'. We know that the unit of something is the building block of that thing. For example the building block of human body is cell which is the unit of human body. Same here the building block of string is character. So the value assigned to i will be the first unit of string i.e. first character of string which for now is 'Python'."
   ]
  },
  {
   "cell_type": "code",
   "execution_count": 16,
   "metadata": {},
   "outputs": [
    {
     "name": "stdout",
     "output_type": "stream",
     "text": [
      "P,y,t,h,o,n,"
     ]
    }
   ],
   "source": [
    "\n",
    "for i in 'Python': # i will be assigned as the unit of the thing in which it has been iterated.\n",
    "    print(i , end = ',')"
   ]
  },
  {
   "cell_type": "code",
   "execution_count": 37,
   "metadata": {},
   "outputs": [
    {
     "name": "stdout",
     "output_type": "stream",
     "text": [
      "A B C D E F G H I J K L M N O P Q R S T U V W X Y Z a b c d e f g h i j k l m n o p q r s t u v w x y z "
     ]
    }
   ],
   "source": [
    "for i in range(65 , 91): #chr() is used to input the most of the intro is the \n",
    "    print(chr(i),end=' ')\n",
    "for i in range(97 , 123): #chr() is used to input the most of the intro is the \n",
    "    print(chr(i),end=' ')"
   ]
  },
  {
   "cell_type": "code",
   "execution_count": 18,
   "metadata": {},
   "outputs": [
    {
     "name": "stdout",
     "output_type": "stream",
     "text": [
      "2\n",
      "3\n",
      "4\n"
     ]
    }
   ],
   "source": [
    "for i in range(2, 5):\n",
    "    print(i)"
   ]
  },
  {
   "attachments": {},
   "cell_type": "markdown",
   "metadata": {},
   "source": [
    "#### Factorial\n",
    " Program to find the factorial of any number"
   ]
  },
  {
   "cell_type": "code",
   "execution_count": 19,
   "metadata": {},
   "outputs": [
    {
     "name": "stdout",
     "output_type": "stream",
     "text": [
      "The factorial of 5 is 120\n"
     ]
    }
   ],
   "source": [
    "n = int(input('Enter number to find its factorial'))\n",
    "fact = 1\n",
    "for i in range(1, n+1):\n",
    "    fact *=i\n",
    "print(f'The factorial of {n} is {fact}' )"
   ]
  },
  {
   "attachments": {},
   "cell_type": "markdown",
   "metadata": {},
   "source": [
    "## Challenges\n",
    "- ### Challenge no 1\n",
    "     Python program which takes numbers list as input and returns the largest number from it"
   ]
  },
  {
   "cell_type": "code",
   "execution_count": 27,
   "metadata": {},
   "outputs": [
    {
     "name": "stdout",
     "output_type": "stream",
     "text": [
      "The largest number is 10\n"
     ]
    }
   ],
   "source": [
    "\n",
    "my_list = [2,3, 4, 5, 6, 3, 7, 9, 1, 4, 10]\n",
    "my_numberslist = []\n",
    "for i in range(len(my_list)):\n",
    "    my_numberslist.append(int(my_list[i]))\n",
    "largest = my_numberslist[0]\n",
    "for i in my_numberslist:\n",
    "    if i > largest:\n",
    "        largest = i\n",
    "print('The largest number is',largest)"
   ]
  },
  {
   "attachments": {},
   "cell_type": "markdown",
   "metadata": {},
   "source": [
    "- ### Challenge no 2\n",
    "     python program which takes a list of words as input and returns the total number of words in it"
   ]
  },
  {
   "cell_type": "code",
   "execution_count": 61,
   "metadata": {},
   "outputs": [
    {
     "name": "stdout",
     "output_type": "stream",
     "text": [
      "no of words are 17\n"
     ]
    }
   ],
   "source": [
    "# This program only works when there are no punctuations in the whole sentence\n",
    "listWords= 'My name is muaaz I am learning python I have a 20 days strategy to learn it'\n",
    "words = 0\n",
    "for i in range(len(listWords)):\n",
    "    if ord(listWords[i]) == 32:\n",
    "        if 64<ord(listWords[i-1])<92 or 96< ord(listWords[i-1])<124 or 47< ord(listWords[i-1]) <59:\n",
    "            words +=1\n",
    "print('no of words are',words)\n",
    "#ord(listWords[i-1])\n",
    "\n",
    "\n",
    "# for i in listWords:\n",
    "#     if 64<ord(i)<91 or 64> 97< ord(i)<123 or 47< ord(i) <59 or ord(i) == 32:\n",
    "        "
   ]
  },
  {
   "attachments": {},
   "cell_type": "markdown",
   "metadata": {},
   "source": [
    "- ### Chellenge no 2 alternatives"
   ]
  },
  {
   "cell_type": "code",
   "execution_count": 60,
   "metadata": {},
   "outputs": [
    {
     "name": "stdout",
     "output_type": "stream",
     "text": [
      "no of words are 18\n"
     ]
    }
   ],
   "source": [
    "# Alternative no 1\n",
    "listWords= 'My name is muaaz. I am learning python. I have a 20 days strategy to learn it'\n",
    "wordDetected = 0\n",
    "words = 0\n",
    "for i in range(len(listWords)):\n",
    "    if 64<ord(listWords[i-1])<92 or 96< ord(listWords[i-1])<124 or 47< ord(listWords[i-1]) <59:\n",
    "        wordDetected = 0\n",
    "        continue\n",
    "    wordDetected +=1\n",
    "    if wordDetected == 1 and i != len(listWords)-1:\n",
    "        words+=1\n",
    "        \n",
    "print('no of words are',words)\n",
    "        "
   ]
  },
  {
   "cell_type": "code",
   "execution_count": 65,
   "metadata": {},
   "outputs": [
    {
     "name": "stdout",
     "output_type": "stream",
     "text": [
      "The number of words in the paragraph is: 19\n"
     ]
    }
   ],
   "source": [
    "# Alternative no 2\n",
    "paragraph = 'My name is muaaz. . . I am learning python. I have a 20 days strategy to learn it.'\n",
    "words = paragraph.split()\n",
    "num_words = len(words)\n",
    "print(\"The number of words in the paragraph is:\", num_words)"
   ]
  },
  {
   "attachments": {},
   "cell_type": "markdown",
   "metadata": {},
   "source": [
    "- ### Chellenge no 3\n",
    "     python program wich takes the list of numbers as input and return the product of all list numbers"
   ]
  },
  {
   "cell_type": "code",
   "execution_count": 2,
   "metadata": {},
   "outputs": [
    {
     "name": "stdout",
     "output_type": "stream",
     "text": [
      "the total product is 5443200\n"
     ]
    }
   ],
   "source": [
    "my_list = [2,3, 4, 5, 6, 3, 7, 9, 1, 4, 10]\n",
    "product=1\n",
    "my_numberslist = []\n",
    "for i in range(len(my_list)):\n",
    "    my_numberslist.append(int(my_list[i]))\n",
    "for i in my_numberslist:\n",
    "    product *= i\n",
    "print(f'the total product is {product}')"
   ]
  },
  {
   "attachments": {},
   "cell_type": "markdown",
   "metadata": {},
   "source": [
    "- ### Chellenge no 4\n",
    "     python program which takes a list of words as input and returns only numbers starting with 'A'"
   ]
  },
  {
   "cell_type": "code",
   "execution_count": 10,
   "metadata": {},
   "outputs": [
    {
     "name": "stdout",
     "output_type": "stream",
     "text": [
      "Bag Caat Duck "
     ]
    }
   ],
   "source": [
    "wordsList = ['Bag', 'Caat', 'ball', 'Duck', 'shirt', 'jeans']\n",
    "for i in range(len(wordsList)):\n",
    "    if 64<ord(wordsList[i][0])<93:\n",
    "       print(wordsList[i], end=' ')\n",
    "        "
   ]
  },
  {
   "attachments": {},
   "cell_type": "markdown",
   "metadata": {},
   "source": [
    "- ### Chellenge no 5\n",
    "     python program which takes a list of numbers as input and returns the odds from that list"
   ]
  },
  {
   "cell_type": "code",
   "execution_count": 11,
   "metadata": {},
   "outputs": [
    {
     "data": {
      "text/plain": [
       "[3, 5, 3, 7, 9, 1]"
      ]
     },
     "execution_count": 11,
     "metadata": {},
     "output_type": "execute_result"
    }
   ],
   "source": [
    "my_list = [2,3, 4, 5, 6, 3, 7, 9, 1, 4, 10]\n",
    "product=1\n",
    "oddList = []\n",
    "my_numberslist = []\n",
    "for i in range(len(my_list)):\n",
    "    my_numberslist.append(int(my_list[i]))\n",
    "for i in my_numberslist:\n",
    "    if i % 2 != 0:\n",
    "        oddList.append(i)\n",
    "oddList"
   ]
  }
 ],
 "metadata": {
  "kernelspec": {
   "display_name": "Python 3",
   "language": "python",
   "name": "python3"
  },
  "language_info": {
   "codemirror_mode": {
    "name": "ipython",
    "version": 3
   },
   "file_extension": ".py",
   "mimetype": "text/x-python",
   "name": "python",
   "nbconvert_exporter": "python",
   "pygments_lexer": "ipython3",
   "version": "3.11.0rc2"
  },
  "orig_nbformat": 4
 },
 "nbformat": 4,
 "nbformat_minor": 2
}
