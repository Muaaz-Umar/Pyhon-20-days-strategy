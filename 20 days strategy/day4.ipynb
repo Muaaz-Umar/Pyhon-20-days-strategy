{
 "cells": [
  {
   "attachments": {},
   "cell_type": "markdown",
   "metadata": {},
   "source": [
    "# **Day 4**\n",
    "- ## Lists and tuples\n",
    "     - ### Practice"
   ]
  },
  {
   "cell_type": "code",
   "execution_count": 13,
   "metadata": {},
   "outputs": [
    {
     "data": {
      "text/plain": [
       "'Assalam-o-Alikum Null (Human name)'"
      ]
     },
     "execution_count": 13,
     "metadata": {},
     "output_type": "execute_result"
    }
   ],
   "source": [
    "def greetings(name = 'Null' , type = 'Human name'):\n",
    "     return (f'Assalam-o-Alikum {name} ({type})')\n",
    "# print(greetings(name= 'Muaaz', type= 'Muslim name'))\n",
    "greetings()"
   ]
  },
  {
   "cell_type": "code",
   "execution_count": 6,
   "metadata": {},
   "outputs": [
    {
     "data": {
      "text/plain": [
       "[1, 2, 3, 4, 5, 6, 7, 8, 9, 10, 11]"
      ]
     },
     "execution_count": 6,
     "metadata": {},
     "output_type": "execute_result"
    }
   ],
   "source": [
    "numList = list((1,2,3,4,5,6,7,8,9,10))\n",
    "numList.append(11)\n",
    "numList"
   ]
  },
  {
   "cell_type": "code",
   "execution_count": 13,
   "metadata": {},
   "outputs": [
    {
     "data": {
      "text/plain": [
       "[9, 8, 7, 6, 5, 4, 3, 2, '1']"
      ]
     },
     "execution_count": 13,
     "metadata": {},
     "output_type": "execute_result"
    }
   ],
   "source": [
    "listed = ['1', 2,3,4,5,6,7,8,9]\n",
    "listed.sort(key = float,reverse= True)\n",
    "listed"
   ]
  },
  {
   "cell_type": "code",
   "execution_count": null,
   "metadata": {},
   "outputs": [],
   "source": [
    "for i in range (1,11):\n",
    "    print(i/10, end= ' ')"
   ]
  },
  {
   "cell_type": "code",
   "execution_count": 26,
   "metadata": {},
   "outputs": [
    {
     "data": {
      "text/plain": [
       "True"
      ]
     },
     "execution_count": 26,
     "metadata": {},
     "output_type": "execute_result"
    }
   ],
   "source": [
    "cnd = 0\n",
    "'gg' in 'purgg'"
   ]
  },
  {
   "attachments": {},
   "cell_type": "markdown",
   "metadata": {},
   "source": [
    "- #### **Challenges**\n",
    "     - ##### *Challenge no 1*\n",
    "          Python program which takes numbers list and returns the second largest number of it"
   ]
  },
  {
   "cell_type": "code",
   "execution_count": 10,
   "metadata": {},
   "outputs": [
    {
     "data": {
      "text/plain": [
       "87"
      ]
     },
     "execution_count": 10,
     "metadata": {},
     "output_type": "execute_result"
    }
   ],
   "source": [
    "def secondLargest(L = list()):\n",
    "    L.sort(key= int, reverse = True)\n",
    "    if len(L)>1:\n",
    "        return L[1]\n",
    "    else:\n",
    "        return 'List length too short'\n",
    "secondLargest([1 ,2 ,34, 5, 22, 88 ,23, 7, 34 ,67 ,45 ,69, 87 ])"
   ]
  },
  {
   "attachments": {},
   "cell_type": "markdown",
   "metadata": {},
   "source": [
    "- ##### *Challenge no 2*\n",
    "     Python program which takes a list as input and returns the longest word in the list"
   ]
  },
  {
   "cell_type": "code",
   "execution_count": 4,
   "metadata": {},
   "outputs": [
    {
     "data": {
      "text/plain": [
       "'word1000'"
      ]
     },
     "execution_count": 4,
     "metadata": {},
     "output_type": "execute_result"
    }
   ],
   "source": [
    "def secondLongestWord(L = []):\n",
    "#     L = L.split()\n",
    "    longestWord = L[0]\n",
    "    for i in L:\n",
    "        if i > longestWord:\n",
    "            longestWord = i\n",
    "    return longestWord\n",
    "secondLongestWord(['word1000','word1', 'word10', 'word100'])"
   ]
  },
  {
   "attachments": {},
   "cell_type": "markdown",
   "metadata": {},
   "source": [
    "- ##### *Challenge no 3*\n",
    "     Python program which takes two lists of numbers as input and returns the common numbers in both lists"
   ]
  },
  {
   "cell_type": "code",
   "execution_count": 5,
   "metadata": {},
   "outputs": [
    {
     "data": {
      "text/plain": [
       "[1, 3, 4, 5, 56]"
      ]
     },
     "execution_count": 5,
     "metadata": {},
     "output_type": "execute_result"
    }
   ],
   "source": [
    "def commonFinder(A = [], B = []):\n",
    "    L = []\n",
    "    for i in A:\n",
    "        for j in B:\n",
    "            if i == j:\n",
    "                L.append(i)\n",
    "    return L\n",
    "commonFinder([1,3, 4, 5, 22, 56 ,78 ,99], [12, 34, 56 ,1,3, 4, 5])"
   ]
  },
  {
   "cell_type": "code",
   "execution_count": null,
   "metadata": {},
   "outputs": [],
   "source": [
    "def alphabeticOrderWords(L = []):\n",
    "    "
   ]
  }
 ],
 "metadata": {
  "kernelspec": {
   "display_name": "Python 3",
   "language": "python",
   "name": "python3"
  },
  "language_info": {
   "codemirror_mode": {
    "name": "ipython",
    "version": 3
   },
   "file_extension": ".py",
   "mimetype": "text/x-python",
   "name": "python",
   "nbconvert_exporter": "python",
   "pygments_lexer": "ipython3",
   "version": "3.11.0"
  },
  "orig_nbformat": 4
 },
 "nbformat": 4,
 "nbformat_minor": 2
}
