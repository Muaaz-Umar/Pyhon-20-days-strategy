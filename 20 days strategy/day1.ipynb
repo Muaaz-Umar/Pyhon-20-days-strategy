{
 "cells": [
  {
   "attachments": {},
   "cell_type": "markdown",
   "metadata": {},
   "source": [
    "## Practice"
   ]
  },
  {
   "cell_type": "code",
   "execution_count": 45,
   "metadata": {},
   "outputs": [
    {
     "name": "stdout",
     "output_type": "stream",
     "text": [
      "1st line\n",
      "Second line\n"
     ]
    },
    {
     "data": {
      "text/plain": [
       "'1st line\\nSecond line'"
      ]
     },
     "execution_count": 45,
     "metadata": {},
     "output_type": "execute_result"
    }
   ],
   "source": [
    "#if you print a string without the print() then it will be printed as a raw string\n",
    "s = '1st line\\nSecond line'\n",
    "print(s)\n",
    "s"
   ]
  },
  {
   "cell_type": "code",
   "execution_count": 7,
   "metadata": {},
   "outputs": [
    {
     "name": "stdout",
     "output_type": "stream",
     "text": [
      "this is a string on line 1 this is another string on line 2 but there is no operator or keyword to join them\n"
     ]
    },
    {
     "data": {
      "text/plain": [
       "'Hello world'"
      ]
     },
     "execution_count": 7,
     "metadata": {},
     "output_type": "execute_result"
    }
   ],
   "source": [
    "#typing multiple strings in perenthesis without concatenatig and joining them\n",
    "print('this is a string on line 1 '\n",
    " 'this is another string on line 2 but there is no operator or keyword to join them')\n",
    "# but if you concatenate a string variable with another string or var it will give you an error\n",
    "str1 = 'Hello'\n",
    "str2 = 'world'\n",
    "str1+' '+str2  "
   ]
  },
  {
   "cell_type": "code",
   "execution_count": 47,
   "metadata": {},
   "outputs": [
    {
     "name": "stdout",
     "output_type": "stream",
     "text": [
      "this will be printed as raw even if you start a new line with same three quotes\n",
      "like this\n"
     ]
    }
   ],
   "source": [
    "print('''this will be printed as raw even if you start a new line with same three quotes\n",
    "like this''')"
   ]
  },
  {
   "cell_type": "code",
   "execution_count": 21,
   "metadata": {},
   "outputs": [
    {
     "name": "stdout",
     "output_type": "stream",
     "text": [
      "[1, 4, 9, 16, 25, 36, 49, 64, 81, 100, 121, 144]\n",
      "[4, 9, 16, 49, 64, 81, 100, 121, 144]\n",
      "[1, 4, 9, 16]\n"
     ]
    },
    {
     "data": {
      "text/plain": [
       "100"
      ]
     },
     "execution_count": 21,
     "metadata": {},
     "output_type": "execute_result"
    }
   ],
   "source": [
    "list1 = [1, 4, 9, 16, 25, 36]\n",
    "print(list1 + [49, 64, 81, 100, 121, 144]) #concatenation\n",
    "list2 = list1[-5:-2] + [49, 64, 81, 100, 121, 144]\n",
    "print(list2) #slicing + concetenation\n",
    "print(list1[0:4])\n",
    "list1[0:4] = ['a', 'b' , 'c' , 'd' 'e', 'f']\n",
    "len(list1)\n",
    "list3 = [list1, list2]\n",
    "list3[1][6]\n"
   ]
  },
  {
   "cell_type": "code",
   "execution_count": 25,
   "metadata": {},
   "outputs": [
    {
     "data": {
      "text/plain": [
       "['1 , 2, 3, 5, a, 6, 7,9']"
      ]
     },
     "execution_count": 25,
     "metadata": {},
     "output_type": "execute_result"
    }
   ],
   "source": [
    "#list input\n",
    "inputList = [input('enter ele of list')]\n",
    "inputList\n"
   ]
  },
  {
   "cell_type": "code",
   "execution_count": 4,
   "metadata": {},
   "outputs": [
    {
     "name": "stdout",
     "output_type": "stream",
     "text": [
      "0,1,1,2,3,5,8,13,21,34,"
     ]
    }
   ],
   "source": [
    "# Fibonacci series\n",
    "a , b = 0 , 1\n",
    "while a < 50:\n",
    "    print(a, end=',')\n",
    "    a , b = b , a+b"
   ]
  },
  {
   "cell_type": "code",
   "execution_count": 3,
   "metadata": {},
   "outputs": [
    {
     "name": "stdout",
     "output_type": "stream",
     "text": [
      "the value of i is  10\n"
     ]
    }
   ],
   "source": [
    "i = 10\n",
    "print('the value of i is ', i)"
   ]
  },
  {
   "attachments": {},
   "cell_type": "markdown",
   "metadata": {},
   "source": [
    "## Challenges\n",
    "- ### Challenge no 1\n",
    "     Python program to take a sentence as input and display the number of vowels in it"
   ]
  },
  {
   "cell_type": "code",
   "execution_count": 8,
   "metadata": {},
   "outputs": [
    {
     "name": "stdout",
     "output_type": "stream",
     "text": [
      "The number of vowel letters in  muaaz  is  3\n"
     ]
    }
   ],
   "source": [
    "sentence = input('please enter a sentence')\n",
    "vowel_count = 0\n",
    "for i in sentence:\n",
    "    if i == 'a' or i == 'e' or i == 'i' or i == 'o' or i == 'u':\n",
    "        vowel_count+=1\n",
    "print('The number of vowel letters in ', sentence, ' is ', vowel_count)"
   ]
  },
  {
   "attachments": {},
   "cell_type": "markdown",
   "metadata": {},
   "source": [
    "- ### Challenge no 2\n",
    "Python program to display first 50 prime numbers"
   ]
  },
  {
   "cell_type": "code",
   "execution_count": 36,
   "metadata": {},
   "outputs": [
    {
     "name": "stdout",
     "output_type": "stream",
     "text": [
      "2 3 5 7 11 13 17 19 23 29 31 37 41 43 47 "
     ]
    }
   ],
   "source": [
    "counter = 0\n",
    "for i in range(1, 50):\n",
    "    for j in reversed(range(1, i + 1)):\n",
    "        if i % j == 0:\n",
    "            counter += 1\n",
    "    if counter == 2:\n",
    "        print( i ,end= ' ')\n",
    "    counter = 0\n"
   ]
  },
  {
   "attachments": {},
   "cell_type": "markdown",
   "metadata": {},
   "source": [
    "#### Alternative to the above chellenge"
   ]
  },
  {
   "cell_type": "code",
   "execution_count": 44,
   "metadata": {},
   "outputs": [
    {
     "name": "stdout",
     "output_type": "stream",
     "text": [
      "2 3 5 7 22 25 26 33 34 38 39 46 49 "
     ]
    }
   ],
   "source": [
    "counter = 0\n",
    "for i in range(1, 50):\n",
    "    for j in range(1, 10):\n",
    "        if i % j == 0:\n",
    "            counter += 1\n",
    "    if counter == 2:\n",
    "        print(i, end=' ')\n",
    "    counter = 0"
   ]
  },
  {
   "attachments": {},
   "cell_type": "markdown",
   "metadata": {},
   "source": [
    "- ### Challenge no 3\n",
    "     Python program which takes a list of numbers as input and return the sum of all even numbers in it"
   ]
  },
  {
   "cell_type": "code",
   "execution_count": 45,
   "metadata": {},
   "outputs": [
    {
     "name": "stdout",
     "output_type": "stream",
     "text": [
      "\n",
      "\n",
      "Enter number at index 0\n",
      "Enter number at index 1\n",
      "Enter number at index 2\n",
      "Enter number at index 3\n",
      "Enter number at index 4\n",
      "Enter number at index 5\n",
      "Enter number at index 6\n",
      "[23, 4, 5, 8, 0, 4, 2]\n",
      "the sum is 18\n"
     ]
    }
   ],
   "source": [
    "number_list = []\n",
    "n = int(input(\"Enter the list size \"))\n",
    "sum = 0\n",
    "\n",
    "print(\"\\n\")\n",
    "for i in range(0, n):\n",
    "    print(\"Enter number at index\", i, )\n",
    "    item = int(input())\n",
    "    number_list.append(item)\n",
    "print(number_list)\n",
    "for i in number_list:\n",
    "    if i % 2 == 0:\n",
    "        sum += i\n",
    "print(f'the sum is {sum}')\n"
   ]
  },
  {
   "attachments": {},
   "cell_type": "markdown",
   "metadata": {},
   "source": [
    "- ### Challlenge no 4\n",
    "     python program which takes list as input and returns a list having all those words containing 'a'"
   ]
  },
  {
   "cell_type": "code",
   "execution_count": 48,
   "metadata": {},
   "outputs": [
    {
     "data": {
      "text/plain": [
       "['blancket', 'Atom', 'cupboard', 'bag', 'charger', 'pants', 'shampoo', 'pan']"
      ]
     },
     "execution_count": 48,
     "metadata": {},
     "output_type": "execute_result"
    }
   ],
   "source": [
    "words = ['bottle', 'blancket', 'net', 'computer', 'pillow', 'Atom', 'cupboard', 'towel', 'bag', 'charger', 'pants', 'shampoo', 'pan']\n",
    "words[2][1]\n",
    "wordHavingA= []\n",
    "for i in range(0, len(words)):\n",
    "    for j in range(0, len(words[i])):\n",
    "        if words[i][j] == 'a' or words[i][j] == 'A':\n",
    "            wordHavingA.append(words[i])\n",
    "\n",
    "wordHavingA"
   ]
  },
  {
   "attachments": {},
   "cell_type": "markdown",
   "metadata": {},
   "source": [
    "- ### Chllenge no 5\n",
    "     Python program that takes a list of numbers as input and returns a new list all prime numbers only for the input list"
   ]
  },
  {
   "cell_type": "code",
   "execution_count": 52,
   "metadata": {},
   "outputs": [
    {
     "data": {
      "text/plain": [
       "[2, 3, 5, 7, 59]"
      ]
     },
     "execution_count": 52,
     "metadata": {},
     "output_type": "execute_result"
    }
   ],
   "source": [
    "numbers = [2, 3, 4, 5, 6, 7, 8, 9, 12, 34, 56, 57 ,58, 59, 60]\n",
    "primeNumbers = []\n",
    "counter = 0\n",
    "for i in numbers:\n",
    "    #print (i , end=' ')\n",
    "    for j in (range(1, i+1)):\n",
    "        if i % j == 0:\n",
    "            counter += 1\n",
    "    if counter == 2:\n",
    "        primeNumbers.append(i)\n",
    "    counter = 0\n",
    "primeNumbers\n"
   ]
  }
 ],
 "metadata": {
  "kernelspec": {
   "display_name": "Python 3",
   "language": "python",
   "name": "python3"
  },
  "language_info": {
   "codemirror_mode": {
    "name": "ipython",
    "version": 3
   },
   "file_extension": ".py",
   "mimetype": "text/x-python",
   "name": "python",
   "nbconvert_exporter": "python",
   "pygments_lexer": "ipython3",
   "version": "3.11.0"
  },
  "orig_nbformat": 4
 },
 "nbformat": 4,
 "nbformat_minor": 2
}
