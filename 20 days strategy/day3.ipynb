{
 "cells": [
  {
   "attachments": {},
   "cell_type": "markdown",
   "metadata": {},
   "source": [
    "# **Day 3**\n",
    "- ## Functions\n",
    "     - ### Practice"
   ]
  },
  {
   "cell_type": "code",
   "execution_count": 5,
   "metadata": {},
   "outputs": [
    {
     "name": "stdout",
     "output_type": "stream",
     "text": [
      "Assalam-o-Alikum\n",
      "Function has been called\n"
     ]
    }
   ],
   "source": [
    "def greetings():\n",
    "    print('Assalam-o-Alikum')\n",
    "greetings()\n",
    "print('Function has been called')"
   ]
  },
  {
   "cell_type": "code",
   "execution_count": 15,
   "metadata": {},
   "outputs": [
    {
     "name": "stdout",
     "output_type": "stream",
     "text": [
      "0 1 1 2 3 5 8 13 21 34 55 89 144 233 377 610 987 "
     ]
    }
   ],
   "source": [
    "def fib(n):\n",
    "    a, b = 0,1\n",
    "    while a < n+1:\n",
    "        print(a, end= ' ')\n",
    "        a, b = b , a+b\n",
    "fib(999)"
   ]
  },
  {
   "cell_type": "code",
   "execution_count": 17,
   "metadata": {},
   "outputs": [
    {
     "name": "stdout",
     "output_type": "stream",
     "text": [
      "Tomy Bille Cow Perrot\n"
     ]
    }
   ],
   "source": [
    "#while function declearation you can specify a default value to the argument\n",
    "def pet(first = 'Dog', second = 'Cat', third = 'Cow', fourth = 'Perrot'):\n",
    "    print(first, second, third , fourth )\n",
    "pet('Tomy', 'Bille')"
   ]
  },
  {
   "cell_type": "code",
   "execution_count": 1,
   "metadata": {},
   "outputs": [
    {
     "name": "stdout",
     "output_type": "stream",
     "text": [
      "6\n"
     ]
    }
   ],
   "source": [
    "i = 6\n",
    "def f(arg = i):\n",
    "    print(arg)\n",
    "i = 3\n",
    "f()"
   ]
  },
  {
   "cell_type": "code",
   "execution_count": null,
   "metadata": {},
   "outputs": [],
   "source": [
    "string = 'Muaaz'\n",
    "print(string[0])\n",
    "# string[0] = 'U' // This is not allowed in python because strings are immutable"
   ]
  },
  {
   "cell_type": "code",
   "execution_count": 16,
   "metadata": {},
   "outputs": [
    {
     "name": "stdout",
     "output_type": "stream",
     "text": [
      "z\n"
     ]
    }
   ],
   "source": [
    "name = 'muaaz'\n",
    "print(name[len(name)-1])"
   ]
  },
  {
   "cell_type": "code",
   "execution_count": 10,
   "metadata": {},
   "outputs": [
    {
     "name": "stdout",
     "output_type": "stream",
     "text": [
      "hi\n"
     ]
    }
   ],
   "source": [
    "greetings\n",
    "greetings()\n",
    "def greetings():\n",
    "    print('hi')"
   ]
  },
  {
   "cell_type": "code",
   "execution_count": 5,
   "metadata": {},
   "outputs": [
    {
     "name": "stdout",
     "output_type": "stream",
     "text": [
      "[1]\n",
      "[1, 2]\n",
      "[1, 2, 3]\n",
      "[1, 2, 'B']\n",
      "[1, 2, 3, 4]\n"
     ]
    }
   ],
   "source": [
    "def listed(a , L=[]):\n",
    "    L.append(a)\n",
    "    return L\n",
    "print(listed(1))\n",
    "print(listed(2))\n",
    "print(listed(3))\n",
    "L = []\n",
    "L.append(1)\n",
    "L.append(2)\n",
    "L.append('B')\n",
    "print(L)\n",
    "print(listed(4))"
   ]
  },
  {
   "attachments": {},
   "cell_type": "markdown",
   "metadata": {},
   "source": [
    "- ### Chellenges\n",
    "     - #### Chellenge no 1\n",
    "          Python program which takes a list as input and returns the median of the list"
   ]
  },
  {
   "cell_type": "code",
   "execution_count": 12,
   "metadata": {},
   "outputs": [
    {
     "name": "stdout",
     "output_type": "stream",
     "text": [
      "This is the list after sorting [1, 2, 3, 4, 5, 6, 7, 8, 9, 10, 11, 12, 13, 14, 15, 16, 17]\n",
      "9\n"
     ]
    }
   ],
   "source": [
    "def median(L):\n",
    "    convertedList = convertToInt(L) #converting list(which is string for now) to integer list\n",
    "    sortedList= sort(convertedList) #sending the conveted to integer list to be sorted\n",
    "    if len(sortedList) % 2 != 0: #if the list is of odd length then simply return the middle most element as median\n",
    "        return sortedList[int(len(sortedList)/2)]\n",
    "    else: #but if length of list is even then return the average of teh middle most pair of elements\n",
    "        return (sortedList[int(len(sortedList)/2)] + sortedList[int(len(sortedList)/2) +1])/2\n",
    "def convertToInt(L):\n",
    "    tempConverted = []\n",
    "    for i in L:\n",
    "        tempConverted.append(int(i))\n",
    "    return tempConverted\n",
    "def sort(L):\n",
    "    for i in range(len(L)):\n",
    "        for j in range(i+1, len(L)):\n",
    "            if L[i]> L[j]:\n",
    "                temp = L[i]\n",
    "                L[i], L[j] = L[j], temp\n",
    "    return L\n",
    "print(median([17, 16, 15 , 14, 13, 12, 1, 2, 3, 4, 5,6 ,7, 8, 9, 10 , 11]))"
   ]
  },
  {
   "attachments": {},
   "cell_type": "markdown",
   "metadata": {},
   "source": [
    "- #### Chellenge no 2\n",
    "     Python program that takes a sentense as input and returns it reversed"
   ]
  },
  {
   "cell_type": "code",
   "execution_count": 3,
   "metadata": {},
   "outputs": [
    {
     "name": "stdout",
     "output_type": "stream",
     "text": [
      "zaaum si eman yM\n"
     ]
    }
   ],
   "source": [
    "def reversedSentense(L):\n",
    "     R = ''\n",
    "     for i in reversed(L):\n",
    "        R += i\n",
    "     return R\n",
    "print(reversedSentense('My name is muaaz'))"
   ]
  },
  {
   "attachments": {},
   "cell_type": "markdown",
   "metadata": {},
   "source": [
    "- #### Chellenge no 3\n",
    "     Python Program which takes an integer list as input and returns the difference between the smallest and largest number in the list"
   ]
  },
  {
   "cell_type": "code",
   "execution_count": 14,
   "metadata": {},
   "outputs": [
    {
     "name": "stdout",
     "output_type": "stream",
     "text": [
      "20\n"
     ]
    }
   ],
   "source": [
    "def convertToInt(L):\n",
    "    tempConverted = []\n",
    "    for i in L:\n",
    "        tempConverted.append(int(i))\n",
    "    return tempConverted\n",
    "def diffFinder(L):\n",
    "    L = convertToInt(L)\n",
    "    largest , smallest = L[0] , L[0]\n",
    "    for i in range(len(L)):\n",
    "          if L[i] > largest:\n",
    "            largest = L[i]\n",
    "          elif L[i] < smallest:\n",
    "              smallest = L[i]\n",
    "    return largest - smallest\n",
    "\n",
    "print(diffFinder([22,2, 3,4,5,6,7,8,9,7,20]))"
   ]
  },
  {
   "attachments": {},
   "cell_type": "markdown",
   "metadata": {},
   "source": [
    "- #### Chellenge no 4\n",
    "     python program that takes a list of words as input and returns only words ending with e"
   ]
  },
  {
   "cell_type": "code",
   "execution_count": 18,
   "metadata": {},
   "outputs": [
    {
     "name": "stdout",
     "output_type": "stream",
     "text": [
      "['Stree', 'Alee', 'prime']\n"
     ]
    }
   ],
   "source": [
    "def eWordsFinder(L = []):\n",
    "    wordsHavingE = []\n",
    "    for i in range(len(L)):\n",
    "        if L[i][len(L[i])-1] == 'e':\n",
    "            wordsHavingE.append(L[i])\n",
    "    return wordsHavingE\n",
    "print(eWordsFinder(['Stree','muaaz', 'zain', 'Sultan','Alee', 'prime']))"
   ]
  },
  {
   "attachments": {},
   "cell_type": "markdown",
   "metadata": {},
   "source": [
    "- #### Chellenge no 5\n",
    "     Python program which sorts a list of numbers in descending order"
   ]
  },
  {
   "cell_type": "code",
   "execution_count": 19,
   "metadata": {},
   "outputs": [
    {
     "name": "stdout",
     "output_type": "stream",
     "text": [
      "[9, 8, 7, 6, 5, 4, 3, 2]\n"
     ]
    }
   ],
   "source": [
    "def sortDescending(L):\n",
    "    L = intConverter(L)\n",
    "    for i in range(len(L)):\n",
    "        for j in range(i+1, len(L)):\n",
    "            if L[i] < L[j]:\n",
    "                temp = L[i]\n",
    "                L[i], L[j] = L[j], temp\n",
    "    return L\n",
    "def intConverter(L):\n",
    "    temp = []\n",
    "    for i in L:\n",
    "        temp.append(int(i))\n",
    "    return temp\n",
    "print(sortDescending([2, 3, 4, 5, 9, 8, 7, 6]))\n"
   ]
  }
 ],
 "metadata": {
  "kernelspec": {
   "display_name": "Python 3",
   "language": "python",
   "name": "python3"
  },
  "language_info": {
   "codemirror_mode": {
    "name": "ipython",
    "version": 3
   },
   "file_extension": ".py",
   "mimetype": "text/x-python",
   "name": "python",
   "nbconvert_exporter": "python",
   "pygments_lexer": "ipython3",
   "version": "3.11.0"
  },
  "orig_nbformat": 4
 },
 "nbformat": 4,
 "nbformat_minor": 2
}
