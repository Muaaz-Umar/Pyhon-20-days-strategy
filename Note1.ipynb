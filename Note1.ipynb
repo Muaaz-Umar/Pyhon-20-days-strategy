{
 "cells": [
  {
   "attachments": {},
   "cell_type": "markdown",
   "metadata": {},
   "source": [
    "# Strings\n",
    "- Anything written inside the quotes, either single or double(both should be same i.e. '---' or \"---\")\n",
    "- Somthing after \\ inside a string will also be the string even if its a keyword or any other special character.\n",
    "- If you want include \\ 'backslash' itself in the string, you have to make it followed by another backslash.\n",
    "- \\n is used to enter in a new line while execution os code.\n",
    "- \\t is used for tab space.\n",
    "- Putting r before string will consider each and every character inside the quotes as a string even if it is a keyword\n",
    "- Strings have to be inside the single quotes '' or the double quotes \"\". If you have to include a quote in the string, you can either use backslash or the opposite quotes of those which you are using for the string itself\n"
   ]
  },
  {
   "cell_type": "code",
   "execution_count": 6,
   "metadata": {},
   "outputs": [
    {
     "name": "stdout",
     "output_type": "stream",
     "text": [
      "Line 1 \n",
      "line 2\n",
      "Testing escape quotes 'Muaaz'\n",
      "Testing backslashes \\\n",
      "salam 'Muaaz'\n",
      "C:\\some\\name\n"
     ]
    }
   ],
   "source": [
    "print('Line 1 \\nline 2') # \"\\n\" is used to move the code to a new line while execution\n",
    "print('Testing escape quotes \\'Muaaz\\'')\n",
    "print('Testing backslashes \\\\')\n",
    "print('salam \\'Muaaz\\'')\n",
    "print(r'C:\\some\\name')"
   ]
  }
 ],
 "metadata": {
  "kernelspec": {
   "display_name": "Python 3",
   "language": "python",
   "name": "python3"
  },
  "language_info": {
   "codemirror_mode": {
    "name": "ipython",
    "version": 3
   },
   "file_extension": ".py",
   "mimetype": "text/x-python",
   "name": "python",
   "nbconvert_exporter": "python",
   "pygments_lexer": "ipython3",
   "version": "3.11.0"
  },
  "orig_nbformat": 4
 },
 "nbformat": 4,
 "nbformat_minor": 2
}
